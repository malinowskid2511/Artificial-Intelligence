{
  "nbformat": 4,
  "nbformat_minor": 0,
  "metadata": {
    "colab": {
      "provenance": []
    },
    "kernelspec": {
      "name": "python3",
      "display_name": "Python 3"
    },
    "language_info": {
      "name": "python"
    }
  },
  "cells": [
    {
      "cell_type": "markdown",
      "source": [
        "# **Podstawowe elementy języka Python**\n",
        "\n",
        "*W tym rozdziale przedstawimy podstawowe elementy składni języka [Python](https://www.python.org/.)*\n",
        "\n",
        "\n",
        "1. Zmienne\n",
        "---\n",
        "2. Listy\n",
        "---\n",
        "3. Pętle\n",
        "---\n",
        "4. Słowniki i krotki\n",
        "---\n",
        "5. Instrukcje warunkowe\n",
        "---\n",
        "6. Funkcje\n",
        "---\n",
        "7. Pliki\n",
        "---\n",
        "8. Wyjątki\n",
        "---\n",
        "\n",
        "\n"
      ],
      "metadata": {
        "id": "_bEKDmSOoyQP"
      }
    }
  ]
}